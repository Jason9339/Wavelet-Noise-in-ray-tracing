{
 "cells": [
  {
   "cell_type": "markdown",
   "id": "017d47b0",
   "metadata": {},
   "source": [
    "# Wavelet Noise Diagnostic Visualizer\n",
    "本 notebook 可視化以下各階段生成之影像與其頻譜：\n",
    "- R_initial\n",
    "- R_down_up\n",
    "- N_after_subtract\n",
    "- N_final\n",
    "- Base band 與不同縮放頻帶"
   ]
  },
  {
   "cell_type": "code",
   "execution_count": null,
   "id": "552c4838",
   "metadata": {},
   "outputs": [],
   "source": [
    "import os\n",
    "from PIL import Image\n",
    "import matplotlib.pyplot as plt\n",
    "\n",
    "def show_image_pair(image_path1, image_path2):\n",
    "    fig, axs = plt.subplots(1, 2, figsize=(10, 5))\n",
    "    for ax, img_path in zip(axs, [image_path1, image_path2]):\n",
    "        if os.path.exists(img_path):\n",
    "            img = Image.open(img_path)\n",
    "            ax.imshow(img, cmap='gray')\n",
    "            ax.set_title(os.path.basename(img_path))\n",
    "        else:\n",
    "            ax.text(0.5, 0.5, f\"Missing: {img_path}\", ha='center', va='center')\n",
    "        ax.axis('off')\n",
    "    plt.tight_layout()\n",
    "    plt.show()\n"
   ]
  },
  {
   "cell_type": "code",
   "execution_count": null,
   "id": "5dcbf674",
   "metadata": {},
   "outputs": [],
   "source": [
    "show_image_pair('debug_R_initial_slice_z64.bmp', 'debug_R_initial_slice_z64_spectrum.bmp')"
   ]
  },
  {
   "cell_type": "code",
   "execution_count": null,
   "id": "d46b762e",
   "metadata": {},
   "outputs": [],
   "source": [
    "show_image_pair('debug_R_down_up_slice_z64.bmp', 'debug_R_down_up_slice_z64_spectrum.bmp')"
   ]
  },
  {
   "cell_type": "code",
   "execution_count": null,
   "id": "1738c44c",
   "metadata": {},
   "outputs": [],
   "source": [
    "show_image_pair('debug_N_after_subtract_slice_z64.bmp', 'debug_N_after_subtract_slice_z64_spectrum.bmp')"
   ]
  },
  {
   "cell_type": "code",
   "execution_count": null,
   "id": "78f9ac7a",
   "metadata": {},
   "outputs": [],
   "source": [
    "show_image_pair('debug_N_final_slice_z64.bmp', 'debug_N_final_slice_z64_spectrum.bmp')"
   ]
  },
  {
   "cell_type": "code",
   "execution_count": null,
   "id": "ce159161",
   "metadata": {},
   "outputs": [],
   "source": [
    "show_image_pair('diagnostic_base_band.bmp', 'diagnostic_base_band_spectrum.bmp')"
   ]
  },
  {
   "cell_type": "code",
   "execution_count": null,
   "id": "5e38e30a",
   "metadata": {},
   "outputs": [],
   "source": [
    "show_image_pair('diagnostic_band_scale_exp-1.bmp', 'diagnostic_spectrum_scale_exp-1.bmp')"
   ]
  },
  {
   "cell_type": "code",
   "execution_count": null,
   "id": "fbe532ad",
   "metadata": {},
   "outputs": [],
   "source": [
    "show_image_pair('diagnostic_band_scale_exp0.bmp', 'diagnostic_spectrum_scale_exp0.bmp')"
   ]
  },
  {
   "cell_type": "code",
   "execution_count": null,
   "id": "58b7f611",
   "metadata": {},
   "outputs": [],
   "source": [
    "show_image_pair('diagnostic_band_scale_exp1.bmp', 'diagnostic_spectrum_scale_exp1.bmp')"
   ]
  }
 ],
 "metadata": {},
 "nbformat": 4,
 "nbformat_minor": 5
}
